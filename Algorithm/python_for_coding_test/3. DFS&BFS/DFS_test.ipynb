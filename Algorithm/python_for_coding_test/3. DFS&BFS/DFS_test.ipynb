{
 "cells": [
  {
   "cell_type": "code",
   "execution_count": 4,
   "id": "21597d59-d414-4473-92be-9200e51bdae0",
   "metadata": {},
   "outputs": [],
   "source": [
    "def dfs(graph, v, visited):\n",
    "    # 현재 노드 방문 처리\n",
    "    visited[v]=True\n",
    "    print(v, end=' ')\n",
    "    # 현재 노드와 연결된 다른 노드를 재귀적으로 방문\n",
    "    for i in graph[v]:\n",
    "        if not visited[i]:\n",
    "            dfs(graph, i, visited)"
   ]
  },
  {
   "cell_type": "code",
   "execution_count": 8,
   "id": "0a60aac1-f494-4ca1-be65-445c83fbe907",
   "metadata": {},
   "outputs": [
    {
     "name": "stdout",
     "output_type": "stream",
     "text": [
      "[False, False, False, False, False, False, False, False, False]\n",
      "1 2 7 6 8 3 4 5 \n",
      " [False, True, True, True, True, True, True, True, True]\n"
     ]
    }
   ],
   "source": [
    "graph = [\n",
    "    [],        # 0번은 비워둠\n",
    "    [2, 3, 8], # 1번 노드와 인접한 노드 번호를 리스트로 만들어 초기화함.\n",
    "    [1, 7],    # 2번 노드는 1번, 7번 노드와 인접\n",
    "    [1, 4, 5],\n",
    "    [3, 5],\n",
    "    [3, 4],\n",
    "    [7],\n",
    "    [2, 6, 8],\n",
    "    [1, 7]\n",
    "]\n",
    "\n",
    "visited = [False]*9\n",
    "print(visited)\n",
    "\n",
    "dfs(graph, 1, visited)\n",
    "print(\"\\n\", visited)"
   ]
  },
  {
   "cell_type": "code",
   "execution_count": 9,
   "id": "99f013e7-c85e-464e-8f9d-652ca6af8c54",
   "metadata": {},
   "outputs": [
    {
     "data": {
      "text/plain": [
       "[2, 3, 8]"
      ]
     },
     "execution_count": 9,
     "metadata": {},
     "output_type": "execute_result"
    }
   ],
   "source": [
    "graph[1]"
   ]
  },
  {
   "cell_type": "code",
   "execution_count": null,
   "id": "7b1e5760-9a2e-44c7-88c8-4d80fdfba70b",
   "metadata": {},
   "outputs": [],
   "source": []
  }
 ],
 "metadata": {
  "kernelspec": {
   "display_name": "Python 3 (ipykernel)",
   "language": "python",
   "name": "python3"
  },
  "language_info": {
   "codemirror_mode": {
    "name": "ipython",
    "version": 3
   },
   "file_extension": ".py",
   "mimetype": "text/x-python",
   "name": "python",
   "nbconvert_exporter": "python",
   "pygments_lexer": "ipython3",
   "version": "3.8.8"
  }
 },
 "nbformat": 4,
 "nbformat_minor": 5
}
