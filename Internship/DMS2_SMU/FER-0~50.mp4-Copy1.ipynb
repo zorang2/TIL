{
 "cells": [
  {
   "cell_type": "markdown",
   "id": "fea6d909",
   "metadata": {},
   "source": [
    "# zorang2 Code\n"
   ]
  },
  {
   "cell_type": "code",
   "execution_count": 4,
   "id": "5689b5bd",
   "metadata": {},
   "outputs": [
    {
     "name": "stdout",
     "output_type": "stream",
     "text": [
      "The autoreload extension is already loaded. To reload it, use:\n",
      "  %reload_ext autoreload\n"
     ]
    }
   ],
   "source": [
    "%load_ext autoreload\n",
    "%autoreload 2\n",
    "\n",
    "import numpy as np\n",
    "import matplotlib.pyplot as plt\n",
    "import cv2\n",
    "import tensorflow as tf\n",
    "from emotion import Emotion\n",
    "import mediapipe as mp\n",
    "import csv\n",
    "import glob\n",
    "import re\n",
    "from tqdm import tqdm"
   ]
  },
  {
   "cell_type": "code",
   "execution_count": 5,
   "id": "497f62b1",
   "metadata": {},
   "outputs": [
    {
     "name": "stdout",
     "output_type": "stream",
     "text": [
      "['/media/sldev1/T7/DMS2/04. 손하늘_1208.mp4', '/media/sldev1/T7/DMS2/05. 이민정_1209.mp4', '/media/sldev1/T7/DMS2/06. 김세희_1213.mp4', '/media/sldev1/T7/DMS2/07. 이선진_1213.mp4', '/media/sldev1/T7/DMS2/08. 정승아_1214.mp4', '/media/sldev1/T7/DMS2/09. 류채원_1214.mp4', '/media/sldev1/T7/DMS2/10. 최서영_1214.mp4', '/media/sldev1/T7/DMS2/11. 하현옥_1214.mp4', '/media/sldev1/T7/DMS2/12. 윤호영_1214.mp4', '/media/sldev1/T7/DMS2/13. 김설양_1215.mp4', '/media/sldev1/T7/DMS2/14. 박세익_1215.mp4', '/media/sldev1/T7/DMS2/15. 김주일_1215.mp4', '/media/sldev1/T7/DMS2/16. 유현지_1215.mp4', '/media/sldev1/T7/DMS2/17. 임우준_1216.mp4', '/media/sldev1/T7/DMS2/18. 송영달_1216.mp4', '/media/sldev1/T7/DMS2/19. 표성민_1216.mp4', '/media/sldev1/T7/DMS2/20. 박동수_1216.mp4', '/media/sldev1/T7/DMS2/21. 유은식_1216.mp4', '/media/sldev1/T7/DMS2/22. 안만석_1219.mp4', '/media/sldev1/T7/DMS2/23. 최시리_1219.mp4', '/media/sldev1/T7/DMS2/24. 서창희_1220.mp4', '/media/sldev1/T7/DMS2/25. 이진성_1220.mp4', '/media/sldev1/T7/DMS2/26. 김영재_1220.mp4', '/media/sldev1/T7/DMS2/27. 김채윤_1220.mp4', '/media/sldev1/T7/DMS2/28. 신금숙_1221.mp4', '/media/sldev1/T7/DMS2/29. 양정안_1221.mp4', '/media/sldev1/T7/DMS2/30. 이정한_1221.mp4', '/media/sldev1/T7/DMS2/31. 최사랑_1221.mp4', '/media/sldev1/T7/DMS2/32. 박유민_1221.mp4', '/media/sldev1/T7/DMS2/33. 권윤경_1222.mp4', '/media/sldev1/T7/DMS2/34. 김지연_1222.mp4', '/media/sldev1/T7/DMS2/35. 오명숙_1222.mp4', '/media/sldev1/T7/DMS2/36. 변남윤_1222.mp4', '/media/sldev1/T7/DMS2/37. 배성우_1222.mp4', '/media/sldev1/T7/DMS2/38. 서정호_1223.mp4', '/media/sldev1/T7/DMS2/39. 이점석_1223.mp4', '/media/sldev1/T7/DMS2/40. 송효석_1223.mp4', '/media/sldev1/T7/DMS2/41. 최태진_1223.mp4', '/media/sldev1/T7/DMS2/42. 김은미_1223.mp4', '/media/sldev1/T7/DMS2/43. 김송이_1226.mp4', '/media/sldev1/T7/DMS2/44. 정민경_1226.mp4', '/media/sldev1/T7/DMS2/45. 김태현_1226.mp4', '/media/sldev1/T7/DMS2/46. 김태양_1227.mp4', '/media/sldev1/T7/DMS2/47. 김채연_1227.mp4', '/media/sldev1/T7/DMS2/48. 홍유진_1227.mp4', '/media/sldev1/T7/DMS2/49. 정희수_1228.mp4', '/media/sldev1/T7/DMS2/50 백지영_1228.mp4']\n",
      "WARNING:tensorflow:No training configuration found in save file, so the model was *not* compiled. Compile it manually.\n"
     ]
    }
   ],
   "source": [
    "dirpath = \"/media/sldev1/T7/DMS2/\"\n",
    "# filepath = [\"/media/sldev1/T7/02. 김두용_1205_test.mp4\", '/media/sldev1/T7/03. 주용현_1206_test.mp4']\n",
    "filepath = glob.glob(dirpath+'*.mp4')\n",
    "filepath = sorted(filepath ,key=lambda s: int(re.findall(r'\\d+', s)[3]))\n",
    "filepath = filepath[3:]\n",
    "print(filepath)\n",
    "emo = Emotion()\n",
    "mp_face_detection = mp.solutions.face_detection\n",
    "mp_drawing = mp.solutions.drawing_utils"
   ]
  },
  {
   "cell_type": "code",
   "execution_count": null,
   "id": "93bbf689",
   "metadata": {},
   "outputs": [
    {
     "name": "stderr",
     "output_type": "stream",
     "text": [
      "  0%|                                                                                          | 0/47 [00:00<?, ?it/s]INFO: Created TensorFlow Lite XNNPACK delegate for CPU.\n"
     ]
    },
    {
     "name": "stdout",
     "output_type": "stream",
     "text": [
      "/media/sldev1/T7/DMS2/04. 손하늘_1208.mp4\n"
     ]
    },
    {
     "name": "stderr",
     "output_type": "stream",
     "text": [
      "\r",
      "  2%|█▋                                                                           | 1/47 [59:18<45:27:51, 3558.09s/it]"
     ]
    },
    {
     "name": "stdout",
     "output_type": "stream",
     "text": [
      "/media/sldev1/T7/DMS2/05. 이민정_1209.mp4\n"
     ]
    },
    {
     "name": "stderr",
     "output_type": "stream",
     "text": [
      "\r",
      "  4%|███▏                                                                       | 2/47 [1:48:41<40:06:15, 3208.33s/it]"
     ]
    },
    {
     "name": "stdout",
     "output_type": "stream",
     "text": [
      "/media/sldev1/T7/DMS2/06. 김세희_1213.mp4\n"
     ]
    },
    {
     "name": "stderr",
     "output_type": "stream",
     "text": [
      "\r",
      "  6%|████▊                                                                      | 3/47 [2:39:49<38:25:38, 3144.05s/it]"
     ]
    },
    {
     "name": "stdout",
     "output_type": "stream",
     "text": [
      "/media/sldev1/T7/DMS2/07. 이선진_1213.mp4\n"
     ]
    },
    {
     "name": "stderr",
     "output_type": "stream",
     "text": [
      "\r",
      "  9%|██████▍                                                                    | 4/47 [3:29:27<36:46:14, 3078.48s/it]"
     ]
    },
    {
     "name": "stdout",
     "output_type": "stream",
     "text": [
      "/media/sldev1/T7/DMS2/08. 정승아_1214.mp4\n"
     ]
    },
    {
     "name": "stderr",
     "output_type": "stream",
     "text": [
      "\r",
      " 11%|███████▉                                                                   | 5/47 [4:21:44<36:09:53, 3099.84s/it]"
     ]
    },
    {
     "name": "stdout",
     "output_type": "stream",
     "text": [
      "/media/sldev1/T7/DMS2/09. 류채원_1214.mp4\n"
     ]
    },
    {
     "name": "stderr",
     "output_type": "stream",
     "text": [
      "\r",
      " 13%|█████████▌                                                                 | 6/47 [5:10:46<34:41:29, 3046.09s/it]"
     ]
    },
    {
     "name": "stdout",
     "output_type": "stream",
     "text": [
      "/media/sldev1/T7/DMS2/10. 최서영_1214.mp4\n"
     ]
    },
    {
     "name": "stderr",
     "output_type": "stream",
     "text": [
      "\r",
      " 15%|███████████▏                                                               | 7/47 [5:59:21<33:22:07, 3003.18s/it]"
     ]
    },
    {
     "name": "stdout",
     "output_type": "stream",
     "text": [
      "/media/sldev1/T7/DMS2/11. 하현옥_1214.mp4\n"
     ]
    },
    {
     "name": "stderr",
     "output_type": "stream",
     "text": [
      "\r",
      " 17%|████████████▊                                                              | 8/47 [6:48:08<32:16:19, 2978.97s/it]"
     ]
    },
    {
     "name": "stdout",
     "output_type": "stream",
     "text": [
      "/media/sldev1/T7/DMS2/12. 윤호영_1214.mp4\n"
     ]
    }
   ],
   "source": [
    "for i in tqdm(filepath):\n",
    "    print(i)\n",
    "\n",
    "    cap = cv2.VideoCapture(i)\n",
    "    with mp_face_detection.FaceDetection(\n",
    "        model_selection=0, min_detection_confidence=0.5) as face_detection:\n",
    "\n",
    "        with open('/home/sldev1/github/TIL/Internship/DMS2_SMU/FER_Result_SL/'+str(i)[22:-4]+'.csv', 'w', newline = '') as file:\n",
    "            writer = csv.writer(file)\n",
    "            writer.writerow([\"frame\", \"result\"])\n",
    "\n",
    "            while(cap.isOpened()):\n",
    "                ret, frame = cap.read()\n",
    "                rgbframe = cv2.cvtColor(frame, cv2.COLOR_BGR2RGB)\n",
    "                results = face_detection.process(rgbframe)\n",
    "                rgbframe.flags.writeable = True\n",
    "                rgbframe = cv2.cvtColor(rgbframe, cv2.COLOR_RGB2BGR)\n",
    "\n",
    "                if results.detections:\n",
    "                    bbox = results.detections[0].location_data.relative_bounding_box\n",
    "                    top = rgbframe.shape[0]*bbox.ymin\n",
    "                    bottom = rgbframe.shape[0]*(bbox.xmin+bbox.height)\n",
    "                    left = rgbframe.shape[1]*bbox.xmin\n",
    "                    right = rgbframe.shape[1]*(bbox.xmin+bbox.width)\n",
    "\n",
    "                    pre_emo, one, two = emo.process(frame[int(left)-10:int(right)+10, int(top)-10:int(bottom)+10])\n",
    "                    # 0: neutral, 1: joy, 2: sadness, 3: surprise, 4: fear, 5: disgust, 6: anger, 7: contemp\n",
    "                    cv2.putText(frame, f\"Emotion : {pre_emo}\", (10, 60), cv2.FONT_HERSHEY_SIMPLEX, 1, (0, 200, 0), 2)\n",
    "                    cv2.putText(frame, f\"Frame : {cap.get(1)}\", (10, 90), cv2.FONT_HERSHEY_SIMPLEX, 1, (0, 0, 200), 2)\n",
    "                    cv2.putText(frame, f\"One : {one}\", (10, 120), cv2.FONT_HERSHEY_SIMPLEX, 1, (0, 200, 0), 2)\n",
    "                    cv2.putText(frame, f\"two : {two}\", (10, 150), cv2.FONT_HERSHEY_SIMPLEX, 1, (0, 200, 0), 2)\n",
    "\n",
    "\n",
    "                    cv2.rectangle(frame, (int(left), int(top)), (int(right), int(bottom)), (255, 255, 0), 3)\n",
    "\n",
    "                cv2.imshow(\"frame\", frame)\n",
    "\n",
    "                if cv2.waitKey(1) == ord('q'):\n",
    "                    break\n",
    "\n",
    "                with open('/home/sldev1/github/TIL/Internship/DMS2_SMU/FER_Result_SL/'+str(i)[22:-4]+'.csv', 'a', newline = '') as file:\n",
    "                    writer = csv.writer(file)\n",
    "                    writer.writerow([cap.get(1), pre_emo])\n",
    "                    file.close()\n",
    "                \n",
    "                if cap.get(1) == cap.get(cv2.CAP_PROP_FRAME_COUNT):\n",
    "                    break\n",
    "            cap.release()\n",
    "            cv2.destroyAllWindows()\n",
    "\n",
    "\n",
    "# 1258 frame에서 멈추는 중"
   ]
  },
  {
   "cell_type": "code",
   "execution_count": null,
   "id": "a90c0ca7",
   "metadata": {},
   "outputs": [],
   "source": []
  },
  {
   "cell_type": "markdown",
   "id": "2fcdc006",
   "metadata": {},
   "source": [
    "## 01/13(금) 오류"
   ]
  },
  {
   "cell_type": "code",
   "execution_count": null,
   "id": "46060ade",
   "metadata": {},
   "outputs": [],
   "source": [
    "  6%|████▌                                                                      | 3/50 [2:52:17<45:43:23, 3502.20s/it]\n",
    "/media/sldev1/T7/DMS2/04. 손하늘_1208.mp4\n",
    "[h264 @ 0x559e98b11500] Invalid NAL unit size (7082 > 1541).\n",
    "[h264 @ 0x559e98b11500] Error splitting the input into NAL units.\n",
    "  6%|████▌                                                                      | 3/50 [2:54:15<45:30:00, 3485.13s/it]\n",
    "---------------------------------------------------------------------------\n",
    "error                                     Traceback (most recent call last)\n",
    "/tmp/ipykernel_17891/1244803589.py in <module>\n",
    "     12             while(cap.isOpened()):\n",
    "     13                 ret, frame = cap.read()\n",
    "---> 14                 rgbframe = cv2.cvtColor(frame, cv2.COLOR_BGR2RGB)\n",
    "     15                 results = face_detection.process(rgbframe)\n",
    "     16                 rgbframe.flags.writeable = True\n",
    "\n",
    "error: OpenCV(4.5.5) /io/opencv/modules/imgproc/src/color.cpp:182: error: (-215:Assertion failed) !_src.empty() in function 'cvtColor'\n",
    "                \n",
    "# Frame 2566에서 에러뜸.\n",
    "# 다시 하니까 또 됨. 머노?"
   ]
  },
  {
   "cell_type": "code",
   "execution_count": null,
   "id": "55908a9a",
   "metadata": {},
   "outputs": [],
   "source": []
  },
  {
   "cell_type": "code",
   "execution_count": null,
   "id": "1f3cd55b",
   "metadata": {},
   "outputs": [],
   "source": []
  },
  {
   "cell_type": "code",
   "execution_count": null,
   "id": "1a282ae9",
   "metadata": {},
   "outputs": [],
   "source": []
  },
  {
   "cell_type": "code",
   "execution_count": null,
   "id": "b30227e3",
   "metadata": {},
   "outputs": [],
   "source": []
  },
  {
   "cell_type": "code",
   "execution_count": null,
   "id": "3ed5b142",
   "metadata": {},
   "outputs": [],
   "source": []
  },
  {
   "cell_type": "code",
   "execution_count": null,
   "id": "9535a5cc",
   "metadata": {},
   "outputs": [],
   "source": []
  },
  {
   "cell_type": "code",
   "execution_count": null,
   "id": "29f5a2e4",
   "metadata": {},
   "outputs": [],
   "source": []
  }
 ],
 "metadata": {
  "kernelspec": {
   "display_name": "[py3.7-tf2.3.1]",
   "language": "python",
   "name": "dms2"
  },
  "language_info": {
   "codemirror_mode": {
    "name": "ipython",
    "version": 3
   },
   "file_extension": ".py",
   "mimetype": "text/x-python",
   "name": "python",
   "nbconvert_exporter": "python",
   "pygments_lexer": "ipython3",
   "version": "3.7.0"
  }
 },
 "nbformat": 4,
 "nbformat_minor": 5
}
