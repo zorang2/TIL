{
 "cells": [
  {
   "cell_type": "markdown",
   "id": "6b3c9ce4",
   "metadata": {},
   "source": [
    "## 민규사원님 이랑 찾아볼 것.\n",
    "### 1. OpenCV의 VideoCapture는 RGB or BGR 둘중에 뭔가?\n",
    "bgr 가능성 농후\n",
    "\n",
    "### 2. BGR input으로 fear가 많았을 테니, RGB input으로 바꿔서 진행하면 ouput이 다를까?\n",
    "하는 중\n",
    "\n",
    "\n",
    "## 흥용 책임님 요청사항\n",
    "에러난 파일 3~6번 사이를 앞쪽이든 뒷쪽이든 빼놔라"
   ]
  },
  {
   "cell_type": "code",
   "execution_count": 1,
   "id": "a9b6260b",
   "metadata": {},
   "outputs": [],
   "source": [
    "import cv2\n",
    "import numpy as np\n",
    "from PIL import Image"
   ]
  },
  {
   "cell_type": "code",
   "execution_count": 8,
   "id": "63ee733d",
   "metadata": {},
   "outputs": [],
   "source": [
    "\n",
    "img = cv2.imread('/home/sldev1/Desktop/Screenshot from 2023-01-19 15-29-04.png')\n",
    "bgr = cv2.imread('/home/sldev1/Desktop/Screenshot from 2023-01-19 15-29-04.png', cv2.IMREAD_COLOR)\n",
    "bgr = cv2.imread('/home/sldev1/Desktop/Screenshot from 2023-01-19 15-29-04.png', cv2.COLOR_RGB2BGR)\n",
    "pil = Image.open('/home/sldev1/Desktop/Screenshot from 2023-01-19 15-29-04.png')\n",
    "\n",
    "\n",
    "cv2.imshow('img', img)\n",
    "cv2.imshow('bgr', bgr)\n",
    "pil.show()\n",
    "\n",
    "\n",
    "cv2.waitKey(0)\n",
    "cv2.destroyAllWindows()"
   ]
  },
  {
   "cell_type": "code",
   "execution_count": 23,
   "id": "db145ccc",
   "metadata": {},
   "outputs": [],
   "source": [
    "img = '/home/sldev1/Desktop/Screenshot from 2023-01-19 15-29-04.png'\n",
    "\n",
    "cap = cv2.VideoCapture(img)\n",
    "ret, frame = cap.read()\n",
    "\n",
    "# cv2.imshow('frame', frame)\n",
    "bgrframe = cv2.cvtColor(frame, cv2.COLOR_RGB2BGR)\n",
    "rgbframe = cv2.cvtColor(frame, cv2.COLOR_BGR2RGB)\n",
    "\n",
    "\n",
    "cv2.imshow('frame', frame)\n",
    "cv2.imshow('bgrframe', bgrframe)\n",
    "cv2.imshow('rgbframe', rgbframe)\n",
    "\n",
    "\n",
    "cv2.waitKey(0)\n",
    "cv2.destroyAllWindows()\n"
   ]
  },
  {
   "cell_type": "code",
   "execution_count": null,
   "id": "bf71dab3",
   "metadata": {},
   "outputs": [],
   "source": []
  },
  {
   "cell_type": "code",
   "execution_count": null,
   "id": "6731821b",
   "metadata": {},
   "outputs": [],
   "source": []
  },
  {
   "cell_type": "code",
   "execution_count": 25,
   "id": "edb5ecbb",
   "metadata": {},
   "outputs": [],
   "source": [
    "img = '/home/sldev1/Desktop/Screenshot from 2023-01-19 15-29-04.png'\n",
    "\n",
    "cap = cv2.VideoCapture(img)\n",
    "ret, frame = cap.read()\n",
    "\n",
    "# cv2.imshow('frame', frame)\n",
    "bgrframe = cv2.cvtColor(frame, cv2.COLOR_BGR2RGB)\n",
    "# rgbframe = cv2.cvtColor(bgrframe, cv2.COLOR_BGR2RGB)\n",
    "\n",
    "\n",
    "cv2.imshow('frame', frame)\n",
    "cv2.imshow('bgrframe', bgrframe)\n",
    "# cv2.imshow('rgbframe', rgbframe)\n",
    "\n",
    "\n",
    "cv2.waitKey(0)\n",
    "cv2.destroyAllWindows()\n"
   ]
  },
  {
   "cell_type": "code",
   "execution_count": null,
   "id": "59cc44b0",
   "metadata": {},
   "outputs": [],
   "source": []
  },
  {
   "cell_type": "code",
   "execution_count": null,
   "id": "5ca1fd2f",
   "metadata": {},
   "outputs": [],
   "source": []
  },
  {
   "cell_type": "markdown",
   "id": "fea6d909",
   "metadata": {},
   "source": [
    "# zorang2 Code\n"
   ]
  },
  {
   "cell_type": "code",
   "execution_count": 1,
   "id": "5689b5bd",
   "metadata": {},
   "outputs": [
    {
     "name": "stderr",
     "output_type": "stream",
     "text": [
      "Matplotlib created a temporary config/cache directory at /tmp/matplotlib-5wxooxps because the default path (/home/sldev1/.config/matplotlib) is not a writable directory; it is highly recommended to set the MPLCONFIGDIR environment variable to a writable directory, in particular to speed up the import of Matplotlib and to better support multiprocessing.\n",
      "2023-01-20 15:00:39.153489: W tensorflow/stream_executor/platform/default/dso_loader.cc:59] Could not load dynamic library 'libcudart.so.10.1'; dlerror: libcudart.so.10.1: cannot open shared object file: No such file or directory; LD_LIBRARY_PATH: /home/sldev1/anaconda3/envs/dms2/lib/python3.7/site-packages/cv2/../../lib64:/usr/local/cuda-10.2/lib64:/usr/local/cuda-10.0/lib64:/usr/local/cuda/extras/CUPTI/lib64\n",
      "2023-01-20 15:00:39.153514: I tensorflow/stream_executor/cuda/cudart_stub.cc:29] Ignore above cudart dlerror if you do not have a GPU set up on your machine.\n"
     ]
    }
   ],
   "source": [
    "%load_ext autoreload\n",
    "%autoreload 2\n",
    "\n",
    "import numpy as np\n",
    "import matplotlib.pyplot as plt\n",
    "import cv2\n",
    "import tensorflow as tf\n",
    "from emotion import Emotion\n",
    "import mediapipe as mp\n",
    "import csv\n",
    "import glob\n",
    "import re\n",
    "from tqdm import tqdm"
   ]
  },
  {
   "cell_type": "code",
   "execution_count": 2,
   "id": "497f62b1",
   "metadata": {},
   "outputs": [
    {
     "name": "stdout",
     "output_type": "stream",
     "text": [
      "['/media/sldev1/T7/DMS2/08. 정승아_1214.mp4', '/media/sldev1/T7/DMS2/09. 류채원_1214.mp4']\n"
     ]
    },
    {
     "name": "stderr",
     "output_type": "stream",
     "text": [
      "2023-01-20 15:00:39.898100: I tensorflow/stream_executor/platform/default/dso_loader.cc:48] Successfully opened dynamic library libcuda.so.1\n",
      "2023-01-20 15:00:39.921105: I tensorflow/stream_executor/cuda/cuda_gpu_executor.cc:982] successful NUMA node read from SysFS had negative value (-1), but there must be at least one NUMA node, so returning NUMA node zero\n",
      "2023-01-20 15:00:39.921360: I tensorflow/core/common_runtime/gpu/gpu_device.cc:1716] Found device 0 with properties: \n",
      "pciBusID: 0000:01:00.0 name: NVIDIA GeForce GTX 1080 computeCapability: 6.1\n",
      "coreClock: 1.835GHz coreCount: 20 deviceMemorySize: 7.93GiB deviceMemoryBandwidth: 298.32GiB/s\n",
      "2023-01-20 15:00:39.921401: I tensorflow/stream_executor/cuda/cuda_gpu_executor.cc:982] successful NUMA node read from SysFS had negative value (-1), but there must be at least one NUMA node, so returning NUMA node zero\n",
      "2023-01-20 15:00:39.921627: I tensorflow/core/common_runtime/gpu/gpu_device.cc:1716] Found device 1 with properties: \n",
      "pciBusID: 0000:02:00.0 name: NVIDIA GeForce GTX 1080 computeCapability: 6.1\n",
      "coreClock: 1.835GHz coreCount: 20 deviceMemorySize: 7.93GiB deviceMemoryBandwidth: 298.32GiB/s\n",
      "2023-01-20 15:00:39.921697: W tensorflow/stream_executor/platform/default/dso_loader.cc:59] Could not load dynamic library 'libcudart.so.10.1'; dlerror: libcudart.so.10.1: cannot open shared object file: No such file or directory; LD_LIBRARY_PATH: /home/sldev1/anaconda3/envs/dms2/lib/python3.7/site-packages/cv2/../../lib64:/usr/local/cuda-10.2/lib64:/usr/local/cuda-10.0/lib64:/usr/local/cuda/extras/CUPTI/lib64\n",
      "2023-01-20 15:00:39.922792: I tensorflow/stream_executor/platform/default/dso_loader.cc:48] Successfully opened dynamic library libcublas.so.10\n",
      "2023-01-20 15:00:39.923933: I tensorflow/stream_executor/platform/default/dso_loader.cc:48] Successfully opened dynamic library libcufft.so.10\n",
      "2023-01-20 15:00:39.924148: I tensorflow/stream_executor/platform/default/dso_loader.cc:48] Successfully opened dynamic library libcurand.so.10\n",
      "2023-01-20 15:00:39.925342: I tensorflow/stream_executor/platform/default/dso_loader.cc:48] Successfully opened dynamic library libcusolver.so.10\n",
      "2023-01-20 15:00:39.925988: I tensorflow/stream_executor/platform/default/dso_loader.cc:48] Successfully opened dynamic library libcusparse.so.10\n",
      "2023-01-20 15:00:39.926063: W tensorflow/stream_executor/platform/default/dso_loader.cc:59] Could not load dynamic library 'libcudnn.so.7'; dlerror: libcudnn.so.7: cannot open shared object file: No such file or directory; LD_LIBRARY_PATH: /home/sldev1/anaconda3/envs/dms2/lib/python3.7/site-packages/cv2/../../lib64:/usr/local/cuda-10.2/lib64:/usr/local/cuda-10.0/lib64:/usr/local/cuda/extras/CUPTI/lib64\n",
      "2023-01-20 15:00:39.926071: W tensorflow/core/common_runtime/gpu/gpu_device.cc:1753] Cannot dlopen some GPU libraries. Please make sure the missing libraries mentioned above are installed properly if you would like to use GPU. Follow the guide at https://www.tensorflow.org/install/gpu for how to download and setup the required libraries for your platform.\n",
      "Skipping registering GPU devices...\n",
      "2023-01-20 15:00:39.926750: I tensorflow/core/platform/cpu_feature_guard.cc:142] This TensorFlow binary is optimized with oneAPI Deep Neural Network Library (oneDNN)to use the following CPU instructions in performance-critical operations:  AVX2 FMA\n",
      "To enable them in other operations, rebuild TensorFlow with the appropriate compiler flags.\n",
      "2023-01-20 15:00:39.930688: I tensorflow/core/platform/profile_utils/cpu_utils.cc:104] CPU Frequency: 4200000000 Hz\n",
      "2023-01-20 15:00:39.930922: I tensorflow/compiler/xla/service/service.cc:168] XLA service 0x5555c3f5ca80 initialized for platform Host (this does not guarantee that XLA will be used). Devices:\n",
      "2023-01-20 15:00:39.930933: I tensorflow/compiler/xla/service/service.cc:176]   StreamExecutor device (0): Host, Default Version\n",
      "2023-01-20 15:00:39.931917: I tensorflow/core/common_runtime/gpu/gpu_device.cc:1257] Device interconnect StreamExecutor with strength 1 edge matrix:\n",
      "2023-01-20 15:00:39.931928: I tensorflow/core/common_runtime/gpu/gpu_device.cc:1263]      \n"
     ]
    },
    {
     "name": "stdout",
     "output_type": "stream",
     "text": [
      "WARNING:tensorflow:No training configuration found in save file, so the model was *not* compiled. Compile it manually.\n"
     ]
    }
   ],
   "source": [
    "dirpath = \"/media/sldev1/T7/DMS2/\"\n",
    "# filepath = [\"/media/sldev1/T7/02. 김두용_1205_test.mp4\", '/media/sldev1/T7/03. 주용현_1206_test.mp4']\n",
    "filepath = glob.glob(dirpath+'*.mp4')\n",
    "filepath = sorted(filepath ,key=lambda s: int(re.findall(r'\\d+', s)[3]))\n",
    "filepath = filepath[7:9]\n",
    "print(filepath)\n",
    "emo = Emotion()\n",
    "mp_face_detection = mp.solutions.face_detection\n",
    "mp_drawing = mp.solutions.drawing_utils"
   ]
  },
  {
   "cell_type": "markdown",
   "id": "acd76887",
   "metadata": {},
   "source": [
    "## 기존 code"
   ]
  },
  {
   "cell_type": "code",
   "execution_count": 36,
   "id": "93bbf689",
   "metadata": {},
   "outputs": [
    {
     "name": "stderr",
     "output_type": "stream",
     "text": [
      "\r",
      "  0%|                                                     | 0/2 [00:00<?, ?it/s]"
     ]
    },
    {
     "name": "stdout",
     "output_type": "stream",
     "text": [
      "/media/sldev1/T7/DMS2/08. 정승아_1214.mp4\n"
     ]
    },
    {
     "name": "stderr",
     "output_type": "stream",
     "text": [
      "\r",
      " 50%|██████████████████████▌                      | 1/2 [00:10<00:10, 10.72s/it]"
     ]
    },
    {
     "name": "stdout",
     "output_type": "stream",
     "text": [
      "/media/sldev1/T7/DMS2/09. 류채원_1214.mp4\n"
     ]
    },
    {
     "name": "stderr",
     "output_type": "stream",
     "text": [
      "100%|█████████████████████████████████████████████| 2/2 [00:11<00:00,  5.83s/it]\n"
     ]
    }
   ],
   "source": [
    "from PIL import Image\n",
    "\n",
    "for i in tqdm(filepath):\n",
    "    print(i)\n",
    "\n",
    "    cap = cv2.VideoCapture(i)\n",
    "    with mp_face_detection.FaceDetection(\n",
    "        model_selection=0, min_detection_confidence=0.5) as face_detection:\n",
    "\n",
    "        with open('/home/sldev1/github/TIL/Internship/DMS2_SMU/FER_Result_SL/'+str(i)[22:-4]+'.csv', 'w', newline = '') as file:\n",
    "            writer = csv.writer(file)\n",
    "            writer.writerow([\"frame\", \"result\"])\n",
    "\n",
    "            while(cap.isOpened()):\n",
    "                ret, frame = cap.read()\n",
    "                rgbframe = cv2.cvtColor(frame, cv2.COLOR_BGR2RGB) # bgr로 들어감. 확인완료\n",
    "                results = face_detection.process(rgbframe)\n",
    "                rgbframe.flags.writeable = True\n",
    "                rgbframe = cv2.cvtColor(rgbframe, cv2.COLOR_RGB2BGR)\n",
    "                cv2.imshow('rgbframe', rgbframe)\n",
    "\n",
    "                if results.detections:\n",
    "                    bbox = results.detections[0].location_data.relative_bounding_box\n",
    "                    top = rgbframe.shape[0]*bbox.ymin\n",
    "                    bottom = rgbframe.shape[0]*(bbox.xmin+bbox.height)\n",
    "                    left = rgbframe.shape[1]*bbox.xmin\n",
    "                    right = rgbframe.shape[1]*(bbox.xmin+bbox.width)\n",
    "\n",
    "#                     pre_emo, one, two = emo.process(frame[int(left)-10:int(right)+10, int(top)-10:int(bottom)+10])\n",
    "                    pre_emo, one, two = emo.process(rgbframe[int(top)-10:int(bottom)+10, int(left)-10:int(right)+10])\n",
    "                    # 0: neutral, 1: joy, 2: sadness, 3: surprise, 4: fear, 5: disgust, 6: anger, 7: contemp\n",
    "                    cv2.putText(frame, f\"Emotion : {pre_emo}\", (10, 60), cv2.FONT_HERSHEY_SIMPLEX, 1, (0, 200, 0), 2)\n",
    "                    cv2.putText(frame, f\"Frame : {cap.get(1)}\", (10, 90), cv2.FONT_HERSHEY_SIMPLEX, 1, (0, 0, 200), 2)\n",
    "                    cv2.putText(frame, f\"One : {one}\", (10, 120), cv2.FONT_HERSHEY_SIMPLEX, 1, (0, 200, 0), 2)\n",
    "                    cv2.putText(frame, f\"two : {two}\", (10, 150), cv2.FONT_HERSHEY_SIMPLEX, 1, (0, 200, 0), 2)\n",
    "\n",
    "\n",
    "                    cv2.rectangle(frame, (int(left), int(top)), (int(right), int(bottom)), (255, 255, 0), 3)\n",
    "\n",
    "                cv2.imshow(\"frame\", frame)\n",
    "\n",
    "                if cv2.waitKey(1) == ord('q'):\n",
    "                    break\n",
    "\n",
    "                with open('/home/sldev1/github/TIL/Internship/DMS2_SMU/FER_Result_SL/'+str(i)[22:-4]+'.csv', 'a', newline = '') as file:\n",
    "                    writer = csv.writer(file)\n",
    "                    writer.writerow([cap.get(1), pre_emo])\n",
    "                    file.close()\n",
    "                \n",
    "                if cap.get(1) == cap.get(cv2.CAP_PROP_FRAME_COUNT):\n",
    "                    break\n",
    "            cap.release()\n",
    "            cv2.destroyAllWindows()\n",
    "\n",
    "\n",
    "# 1258 frame에서 멈추는 중"
   ]
  },
  {
   "cell_type": "code",
   "execution_count": null,
   "id": "5f350239",
   "metadata": {},
   "outputs": [],
   "source": []
  },
  {
   "cell_type": "markdown",
   "id": "4556f210",
   "metadata": {},
   "source": [
    "## RGB로 input 넣기(내가수정)\n"
   ]
  },
  {
   "cell_type": "code",
   "execution_count": 4,
   "id": "74c1796f",
   "metadata": {},
   "outputs": [
    {
     "name": "stderr",
     "output_type": "stream",
     "text": [
      "\r",
      "  0%|                                                     | 0/2 [00:00<?, ?it/s]"
     ]
    },
    {
     "name": "stdout",
     "output_type": "stream",
     "text": [
      "/media/sldev1/T7/DMS2/08. 정승아_1214.mp4\n"
     ]
    },
    {
     "name": "stderr",
     "output_type": "stream",
     "text": [
      "\r",
      " 50%|█████████████████████▌                     | 1/2 [32:38<32:38, 1958.08s/it]"
     ]
    },
    {
     "name": "stdout",
     "output_type": "stream",
     "text": [
      "/media/sldev1/T7/DMS2/09. 류채원_1214.mp4\n"
     ]
    },
    {
     "name": "stderr",
     "output_type": "stream",
     "text": [
      "100%|█████████████████████████████████████████| 2/2 [1:18:53<00:00, 2366.94s/it]\n"
     ]
    }
   ],
   "source": [
    "from PIL import Image\n",
    "\n",
    "for i in tqdm(filepath):\n",
    "    print(i)\n",
    "\n",
    "    cap = cv2.VideoCapture(i)\n",
    "    with mp_face_detection.FaceDetection(\n",
    "        model_selection=0, min_detection_confidence=0.5) as face_detection:\n",
    "\n",
    "        with open('/home/sldev1/github/TIL/Internship/DMS2_SMU/FER_rgb/'+str(i)[22:-4]+'.csv', 'w', newline = '') as file:\n",
    "            writer = csv.writer(file)\n",
    "            writer.writerow([\"frame\", \"result\"])\n",
    "\n",
    "            while(cap.isOpened()):\n",
    "                ret, frame = cap.read()\n",
    "#                 cv2.imshow('frame',frame)\n",
    "#                 rgbframe = cv2.cvtColor(frame, cv2.COLOR_BGR2RGB)\n",
    "                results = face_detection.process(frame)\n",
    "                frame.flags.writeable = False\n",
    "#                 rgbframe = cv2.cvtColor(rgbframe, cv2.COLOR_RGB2BGR)\n",
    "                frame = cv2.cvtColor(frame, cv2.COLOR_RGB2BGR)\n",
    "\n",
    "                if results.detections:\n",
    "                    bbox = results.detections[0].location_data.relative_bounding_box\n",
    "                    top = frame.shape[0]*bbox.ymin\n",
    "                    bottom = frame.shape[0]*(bbox.xmin+bbox.height)\n",
    "                    left = frame.shape[1]*bbox.xmin\n",
    "                    right = frame.shape[1]*(bbox.xmin+bbox.width)\n",
    "\n",
    "                    pre_emo, one, two = emo.process(frame[int(left)-10:int(right)+10, int(top)-10:int(bottom)+10])\n",
    "#                     pre_emo, one, two = emo.process(rgbframe[int(top)-100:int(bottom)+50, int(left)-50:int(right)+50])\n",
    "                    # 0: neutral, 1: joy, 2: sadness, 3: surprise, 4: fear, 5: disgust, 6: anger, 7: contemp\n",
    "                    cv2.putText(frame, f\"Emotion : {pre_emo}\", (10, 60), cv2.FONT_HERSHEY_SIMPLEX, 1, (0, 200, 0), 2)\n",
    "                    cv2.putText(frame, f\"Frame : {cap.get(1)}\", (10, 90), cv2.FONT_HERSHEY_SIMPLEX, 1, (0, 0, 200), 2)\n",
    "                    cv2.putText(frame, f\"One : {one}\", (10, 120), cv2.FONT_HERSHEY_SIMPLEX, 1, (0, 200, 0), 2)\n",
    "                    cv2.putText(frame, f\"two : {two}\", (10, 150), cv2.FONT_HERSHEY_SIMPLEX, 1, (0, 200, 0), 2)\n",
    "\n",
    "#                     cv2.rectangle(frame, (int(left), int(top)), (int(right), int(bottom)), (255, 255, 0), 3)\n",
    "#                     cv2.rectangle(frame, (int(left)-50, int(top)-100), (int(right)+50, int(bottom)+50), (255, 255, 0), 3)\n",
    "                    cv2.rectangle(frame, (int(left)-10, int(top)-10), (int(right)+10, int(bottom)+10), (255, 255, 0), 3)\n",
    "\n",
    "                cv2.imshow(\"frame\", frame)\n",
    "\n",
    "                if cv2.waitKey(1) == ord('q'):\n",
    "                    break\n",
    "\n",
    "                with open('/home/sldev1/github/TIL/Internship/DMS2_SMU/FER_rgb/'+str(i)[22:-4]+'.csv', 'a', newline = '') as file:\n",
    "                    writer = csv.writer(file)\n",
    "                    writer.writerow([cap.get(1), pre_emo])\n",
    "                    file.close()\n",
    "                \n",
    "                if cap.get(1) == cap.get(cv2.CAP_PROP_FRAME_COUNT):\n",
    "                    break\n",
    "            cap.release()\n",
    "            cv2.destroyAllWindows()\n",
    "\n",
    "\n",
    "\n",
    "            # 1258 frame에서 멈추는 중"
   ]
  },
  {
   "cell_type": "code",
   "execution_count": null,
   "id": "5eb5fa6b",
   "metadata": {},
   "outputs": [],
   "source": []
  },
  {
   "cell_type": "code",
   "execution_count": 13,
   "id": "c5776634",
   "metadata": {},
   "outputs": [
    {
     "name": "stderr",
     "output_type": "stream",
     "text": [
      "\r",
      "  0%|                                                     | 0/2 [00:00<?, ?it/s]"
     ]
    },
    {
     "name": "stdout",
     "output_type": "stream",
     "text": [
      "/media/sldev1/T7/DMS2/08. 정승아_1214.mp4\n"
     ]
    },
    {
     "name": "stderr",
     "output_type": "stream",
     "text": [
      "\r",
      " 50%|██████████████████████▌                      | 1/2 [00:09<00:09,  9.85s/it]"
     ]
    },
    {
     "name": "stdout",
     "output_type": "stream",
     "text": [
      "/media/sldev1/T7/DMS2/09. 류채원_1214.mp4\n"
     ]
    },
    {
     "name": "stderr",
     "output_type": "stream",
     "text": [
      "100%|█████████████████████████████████████████████| 2/2 [00:17<00:00,  8.78s/it]\n"
     ]
    }
   ],
   "source": [
    "for i in tqdm(filepath):\n",
    "    print(i)\n",
    "\n",
    "    cap = cv2.VideoCapture(i)\n",
    "    with mp_face_detection.FaceDetection(\n",
    "        model_selection=0, min_detection_confidence=0.5) as face_detection:\n",
    "        while cap.isOpened():\n",
    "            success, image = cap.read()\n",
    "            \n",
    "            image.flags.writeable = False\n",
    "            image = cv2.cvtColor(image, cv2.COLOR_BGR2RGB)\n",
    "            cv2.imshow('image', image)\n",
    "            results = face_detection.process(image)\n",
    "\n",
    "            # Draw the face detection annotations on the image.\n",
    "            image.flags.writeable = True\n",
    "            image = cv2.cvtColor(image, cv2.COLOR_RGB2BGR)\n",
    "            if results.detections:\n",
    "                for detection in results.detections:\n",
    "                    mp_drawing.draw_detection(image, detection)\n",
    "\n",
    "\n",
    "            # Flip the image horizontally for a selfie-view display.\n",
    "            cv2.imshow('MediaPipe Face Detection', image)\n",
    "\n",
    "\n",
    "            if cv2.waitKey(1) == ord('q'):\n",
    "                break\n",
    "    cap.release()\n",
    "    cv2.destroyAllWindows()"
   ]
  },
  {
   "cell_type": "code",
   "execution_count": null,
   "id": "18e8c8c6",
   "metadata": {},
   "outputs": [],
   "source": []
  },
  {
   "cell_type": "code",
   "execution_count": null,
   "id": "61eddc01",
   "metadata": {},
   "outputs": [],
   "source": []
  },
  {
   "cell_type": "code",
   "execution_count": null,
   "id": "c1aeab01",
   "metadata": {},
   "outputs": [],
   "source": []
  },
  {
   "cell_type": "code",
   "execution_count": null,
   "id": "5f43e164",
   "metadata": {},
   "outputs": [],
   "source": []
  },
  {
   "cell_type": "code",
   "execution_count": null,
   "id": "15d99857",
   "metadata": {},
   "outputs": [],
   "source": []
  },
  {
   "cell_type": "code",
   "execution_count": null,
   "id": "a90c0ca7",
   "metadata": {},
   "outputs": [],
   "source": []
  },
  {
   "cell_type": "markdown",
   "id": "2fcdc006",
   "metadata": {},
   "source": [
    "## 01/13(금) 오류"
   ]
  },
  {
   "cell_type": "code",
   "execution_count": null,
   "id": "46060ade",
   "metadata": {},
   "outputs": [],
   "source": [
    "  6%|████▌                                                                      | 3/50 [2:52:17<45:43:23, 3502.20s/it]\n",
    "/media/sldev1/T7/DMS2/04. 손하늘_1208.mp4\n",
    "[h264 @ 0x559e98b11500] Invalid NAL unit size (7082 > 1541).\n",
    "[h264 @ 0x559e98b11500] Error splitting the input into NAL units.\n",
    "  6%|████▌                                                                      | 3/50 [2:54:15<45:30:00, 3485.13s/it]\n",
    "---------------------------------------------------------------------------\n",
    "error                                     Traceback (most recent call last)\n",
    "/tmp/ipykernel_17891/1244803589.py in <module>\n",
    "     12             while(cap.isOpened()):\n",
    "     13                 ret, frame = cap.read()\n",
    "---> 14                 rgbframe = cv2.cvtColor(frame, cv2.COLOR_BGR2RGB)\n",
    "     15                 results = face_detection.process(rgbframe)\n",
    "     16                 rgbframe.flags.writeable = True\n",
    "\n",
    "error: OpenCV(4.5.5) /io/opencv/modules/imgproc/src/color.cpp:182: error: (-215:Assertion failed) !_src.empty() in function 'cvtColor'\n",
    "                \n",
    "# Frame 2566에서 에러뜸.\n",
    "# 다시 하니까 또 됨. 머노?"
   ]
  },
  {
   "cell_type": "code",
   "execution_count": null,
   "id": "55908a9a",
   "metadata": {},
   "outputs": [],
   "source": []
  },
  {
   "cell_type": "markdown",
   "id": "28a2bcbe",
   "metadata": {},
   "source": [
    "## 01/18 (수) csv file editing"
   ]
  },
  {
   "cell_type": "code",
   "execution_count": 1,
   "id": "c88e911f",
   "metadata": {},
   "outputs": [
    {
     "data": {
      "text/plain": [
       "'/home/sldev1/github/TIL/Internship/DMS2_SMU'"
      ]
     },
     "execution_count": 1,
     "metadata": {},
     "output_type": "execute_result"
    }
   ],
   "source": [
    "pwd"
   ]
  },
  {
   "cell_type": "code",
   "execution_count": 12,
   "id": "587087e7",
   "metadata": {},
   "outputs": [],
   "source": [
    "import glob\n",
    "import re\n",
    "import csv"
   ]
  },
  {
   "cell_type": "code",
   "execution_count": 13,
   "id": "1a282ae9",
   "metadata": {},
   "outputs": [
    {
     "name": "stdout",
     "output_type": "stream",
     "text": [
      "['./FER_Result_SL/01. 김형민_1201.csv', './FER_Result_SL/02. 김두용_1205.csv']\n"
     ]
    }
   ],
   "source": [
    "dirpath = \"./FER_Result_SL/\"\n",
    "# filepath = [\"/media/sldev1/T7/02. 김두용_1205_test.mp4\", '/media/sldev1/T7/03. 주용현_1206_test.mp4']\n",
    "filepath = glob.glob(dirpath+'*.csv')\n",
    "filepath = sorted(filepath ,key=lambda s: int(re.findall(r'\\d+', s)[0]))\n",
    "filepath = filepath[0:2]\n",
    "print(filepath)\n"
   ]
  },
  {
   "cell_type": "code",
   "execution_count": 15,
   "id": "b30227e3",
   "metadata": {},
   "outputs": [
    {
     "ename": "AttributeError",
     "evalue": "'_csv.reader' object has no attribute 'next'",
     "output_type": "error",
     "traceback": [
      "\u001b[0;31m---------------------------------------------------------------------------\u001b[0m",
      "\u001b[0;31mAttributeError\u001b[0m                            Traceback (most recent call last)",
      "\u001b[0;32m/tmp/ipykernel_9824/3866381195.py\u001b[0m in \u001b[0;36m<module>\u001b[0;34m\u001b[0m\n\u001b[1;32m      1\u001b[0m \u001b[0mv\u001b[0m \u001b[0;34m=\u001b[0m \u001b[0mopen\u001b[0m\u001b[0;34m(\u001b[0m\u001b[0mfilepath\u001b[0m\u001b[0;34m[\u001b[0m\u001b[0;36m0\u001b[0m\u001b[0;34m]\u001b[0m\u001b[0;34m)\u001b[0m\u001b[0;34m\u001b[0m\u001b[0m\n\u001b[1;32m      2\u001b[0m \u001b[0mr\u001b[0m \u001b[0;34m=\u001b[0m \u001b[0mcsv\u001b[0m\u001b[0;34m.\u001b[0m\u001b[0mreader\u001b[0m\u001b[0;34m(\u001b[0m\u001b[0mv\u001b[0m\u001b[0;34m)\u001b[0m\u001b[0;34m\u001b[0m\u001b[0m\n\u001b[0;32m----> 3\u001b[0;31m \u001b[0mrow0\u001b[0m \u001b[0;34m=\u001b[0m \u001b[0mr\u001b[0m\u001b[0;34m.\u001b[0m\u001b[0mnext\u001b[0m\u001b[0;34m(\u001b[0m\u001b[0;34m)\u001b[0m\u001b[0;34m\u001b[0m\u001b[0m\n\u001b[0m\u001b[1;32m      4\u001b[0m \u001b[0mrow0\u001b[0m\u001b[0;34m.\u001b[0m\u001b[0mappend\u001b[0m\u001b[0;34m(\u001b[0m\u001b[0;34m'Valence'\u001b[0m\u001b[0;34m)\u001b[0m\u001b[0;34m\u001b[0m\u001b[0m\n\u001b[1;32m      5\u001b[0m \u001b[0mprint\u001b[0m\u001b[0;34m(\u001b[0m\u001b[0mrow0\u001b[0m\u001b[0;34m)\u001b[0m\u001b[0;34m\u001b[0m\u001b[0m\n",
      "\u001b[0;31mAttributeError\u001b[0m: '_csv.reader' object has no attribute 'next'"
     ]
    }
   ],
   "source": [
    "v = open(filepath[0])\n",
    "r = csv.reader(v)\n",
    "row0 = r.next()\n",
    "row0.append('Valence')\n",
    "print(row0)"
   ]
  },
  {
   "cell_type": "code",
   "execution_count": null,
   "id": "3ed5b142",
   "metadata": {},
   "outputs": [],
   "source": []
  },
  {
   "cell_type": "code",
   "execution_count": null,
   "id": "9535a5cc",
   "metadata": {},
   "outputs": [],
   "source": []
  },
  {
   "cell_type": "code",
   "execution_count": null,
   "id": "29f5a2e4",
   "metadata": {},
   "outputs": [],
   "source": []
  }
 ],
 "metadata": {
  "kernelspec": {
   "display_name": "[py3.7-tf2.3.1]",
   "language": "python",
   "name": "dms2"
  },
  "language_info": {
   "codemirror_mode": {
    "name": "ipython",
    "version": 3
   },
   "file_extension": ".py",
   "mimetype": "text/x-python",
   "name": "python",
   "nbconvert_exporter": "python",
   "pygments_lexer": "ipython3",
   "version": "3.7.0"
  }
 },
 "nbformat": 4,
 "nbformat_minor": 5
}
