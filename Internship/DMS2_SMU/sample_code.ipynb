{
 "cells": [
  {
   "cell_type": "code",
   "execution_count": 1,
   "metadata": {},
   "outputs": [],
   "source": [
    "%load_ext autoreload\n",
    "%autoreload 2\n",
    "\n",
    "import numpy as np\n",
    "import matplotlib.pyplot as plt\n",
    "import cv2\n",
    "import tensorflow as tf\n",
    "from emotion import Emotion\n",
    "import mediapipe as mp"
   ]
  },
  {
   "cell_type": "code",
   "execution_count": 53,
   "metadata": {},
   "outputs": [
    {
     "name": "stdout",
     "output_type": "stream",
     "text": [
      "WARNING:tensorflow:No training configuration found in save file, so the model was *not* compiled. Compile it manually.\n"
     ]
    }
   ],
   "source": [
    "dirpath = \"./\"\n",
    "filepath = [\"영상1.mp4\", \"영상2.mp4\"]\n",
    "emo = Emotion()\n",
    "mp_face_detection = mp.solutions.face_detection\n",
    "mp_drawing = mp.solutions.drawing_utils"
   ]
  },
  {
   "cell_type": "code",
   "execution_count": 56,
   "metadata": {},
   "outputs": [],
   "source": [
    "cap = cv2.VideoCapture(dirpath+filepath[1])\n",
    "with mp_face_detection.FaceDetection(\n",
    "    model_selection=0, min_detection_confidence=0.5) as face_detection:\n",
    "    while(cap.isOpened()):\n",
    "        ret, frame = cap.read()\n",
    "        rgbframe = cv2.cvtColor(frame, cv2.COLOR_BGR2RGB)\n",
    "        # 얼굴 영역 탐지는 어떤 모델을 사용하셔도 괜찮습니다\n",
    "        # 예시로 사용한 모델의 경우 속도가 느려서 보유하신 모델을 사용하시면 됩니다! \n",
    "        results = face_detection.process(rgbframe)\n",
    "        rgbframe.flags.writeable = True\n",
    "        rgbframe = cv2.cvtColor(rgbframe, cv2.COLOR_RGB2BGR)\n",
    "        \n",
    "        if results.detections:\n",
    "            bbox = results.detections[0].location_data.relative_bounding_box\n",
    "            top = rgbframe.shape[0]*bbox.ymin\n",
    "            bottom = rgbframe.shape[0]*(bbox.xmin+bbox.height)\n",
    "            left = rgbframe.shape[1]*bbox.xmin\n",
    "            right = rgbframe.shape[1]*(bbox.xmin+bbox.width)\n",
    "\n",
    "            pre_emo, _, _ = emo.process(frame[int(left)-10:int(right)+10, int(top)-10:int(bottom)+10])\n",
    "            # 0: neutral, 1: joy, 2: sadness, 3: surprise, 4: fear, 5: disgust, 6: anger, 7: contemp\n",
    "            cv2.putText(frame, f\"Emotion: {pre_emo}\", (10, 60), cv2.FONT_HERSHEY_SIMPLEX, 1, (0, 200, 0), 2)\n",
    "        cv2.rectangle(frame, (int(left), int(top)), (int(right), int(bottom)), (255, 255, 0), 3)\n",
    "        \n",
    "        cv2.imshow(\"frame\", frame)\n",
    "\n",
    "        if cv2.waitKey(1) & 0xFF == ord('q'):\n",
    "            break\n",
    "cap.release()\n",
    "cv2.destroyAllWindows()"
   ]
  },
  {
   "cell_type": "code",
   "execution_count": null,
   "metadata": {},
   "outputs": [],
   "source": []
  }
 ],
 "metadata": {
  "kernelspec": {
   "display_name": "Python 3 (ipykernel)",
   "language": "python",
   "name": "python3"
  },
  "language_info": {
   "codemirror_mode": {
    "name": "ipython",
    "version": 3
   },
   "file_extension": ".py",
   "mimetype": "text/x-python",
   "name": "python",
   "nbconvert_exporter": "python",
   "pygments_lexer": "ipython3",
   "version": "3.7.15"
  },
  "vscode": {
   "interpreter": {
    "hash": "0973da32d438c888fb032337aecc4ce080e213cb968f3bbc12492d1aaacafbb5"
   }
  }
 },
 "nbformat": 4,
 "nbformat_minor": 2
}
