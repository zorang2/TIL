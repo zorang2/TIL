{
 "cells": [
  {
   "cell_type": "code",
   "execution_count": null,
   "id": "ba52841a-c25f-46cb-be22-3ba52825ea03",
   "metadata": {},
   "outputs": [],
   "source": [
    "import os\n",
    "\n",
    "test_img_ = len(os.listdir(data_path+\"val_set/images/\"))\n",
    "test_ano_ = len(os.listdir(data_path+\"val_set/annotations/\"))\n",
    "train_img_ = len(os.listdir(data_path+\"train_set/images/\"))\n",
    "train_ano_ = len(os.listdir(data_path+\"train_set/annotations/\"))\n",
    "\n",
    "\n",
    "print(f\"Test Dataset_Image 개수 : {test_img_}\")\n",
    "print(f\"Test Dataset_Annotation 개수 : {test_ano_}\")\n",
    "print(\"**************\\n\\n***************\")\n",
    "print(f\"Train Dataset_Image 개수 : {train_img_}\")\n",
    "print(f\"Train Dataset_Annotation 개수 : {train_ano_}\")"
   ]
  }
 ],
 "metadata": {
  "kernelspec": {
   "display_name": "Python 3",
   "language": "python",
   "name": "python3"
  },
  "language_info": {
   "codemirror_mode": {
    "name": "ipython",
    "version": 3
   },
   "file_extension": ".py",
   "mimetype": "text/x-python",
   "name": "python",
   "nbconvert_exporter": "python",
   "pygments_lexer": "ipython3",
   "version": "3.6.9"
  }
 },
 "nbformat": 4,
 "nbformat_minor": 5
}
