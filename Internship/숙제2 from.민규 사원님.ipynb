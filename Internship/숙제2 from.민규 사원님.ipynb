{
 "cells": [
  {
   "cell_type": "markdown",
   "metadata": {},
   "source": [
    "### 민규사원님이 내준 숙제2\n",
    "'기본모델 구축+저장.ipynb'를 한번 보시더니\n",
    "\n",
    "1. 똑같은 실험환경 구축 accracy 똑같이나옴.\n",
    "2. arg 데이터증강 추가해서\n",
    "3. acry 기존모델과 비교\n",
    "\n",
    "를 해보라고 하셨다."
   ]
  },
  {
   "cell_type": "markdown",
   "metadata": {},
   "source": [
    "-----"
   ]
  },
  {
   "cell_type": "markdown",
   "metadata": {},
   "source": [
    "똑같은 실험 환경을 구축하면, 학습을 시킬 때 마다 accracy가 똑같이 나온다고하심.   \n",
    "그럼.. randseed 고정하는거 아닌가?   \n",
    "***A: 맞는듯.***\n",
    "\n",
    "----------------------\n",
    "\n",
    "arg 데이터 증강 뭐넣지?   \n",
    "***A: 아래 셀 참고***"
   ]
  },
  {
   "cell_type": "code",
   "execution_count": null,
   "metadata": {},
   "outputs": [],
   "source": [
    "#기존 (연습장.ipynb)\n",
    "#결과 : 30epoch / loss:0.747 / 10000 test Accuracy of images:58%\n",
    "transf = tr.Compose(\n",
    "    [tr.ToTensor(),\n",
    "     tr.Normalize((0.5, 0.5, 0.5), (0.5, 0.5, 0.5))])\n",
    "\n",
    "#바꾼 것 (연습장-Copy1.ipynb)\n",
    "#결과 : 30epoch / loss:1.060 / 10000 test Accuracy of images:61%\n",
    "transf = tr.Compose(\n",
    "    [tr.Resize((32, 32)),\n",
    "     tr.RandomHorizontalFlip(),\n",
    "     tr.RandomRotation(10),\n",
    "     tr.RandomAffine(0, shear=10, scale=(0.8, 1.2)),\n",
    "     tr.ColorJitter(brightness=0.2, contrast=0.2, saturation=0.2),\n",
    "     tr.ToTensor(),\n",
    "     tr.Normalize((0.5, 0.5, 0.5), (0.5, 0.5, 0.5))])"
   ]
  }
 ],
 "metadata": {
  "kernelspec": {
   "display_name": "Python 3",
   "language": "python",
   "name": "python3"
  },
  "language_info": {
   "codemirror_mode": {
    "name": "ipython",
    "version": 3
   },
   "file_extension": ".py",
   "mimetype": "text/x-python",
   "name": "python",
   "nbconvert_exporter": "python",
   "pygments_lexer": "ipython3",
   "version": "3.6.9"
  }
 },
 "nbformat": 4,
 "nbformat_minor": 2
}
