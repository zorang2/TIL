{
 "cells": [
  {
   "cell_type": "code",
   "execution_count": 1,
   "metadata": {},
   "outputs": [],
   "source": [
    "import torch\n",
    "import random\n",
    "import torch.backends.cudnn as cudnn\n",
    "import numpy as np\n",
    "\n",
    "torch.manual_seed(0)\n",
    "torch.cuda.manual_seed(0)\n",
    "torch.cuda.manual_seed_all(0)\n",
    "np.random.seed(0)\n",
    "cudnn.benchmark = False\n",
    "cudnn.deterministic = True\n",
    "random.seed(0)"
   ]
  },
  {
   "cell_type": "code",
   "execution_count": 2,
   "metadata": {},
   "outputs": [],
   "source": [
    "import torch\n",
    "import torchvision\n",
    "import torchvision.transforms as tr\n",
    "from torch.utils.data import DataLoader"
   ]
  },
  {
   "cell_type": "code",
   "execution_count": 3,
   "metadata": {},
   "outputs": [
    {
     "name": "stdout",
     "output_type": "stream",
     "text": [
      "Files already downloaded and verified\n",
      "Files already downloaded and verified\n"
     ]
    }
   ],
   "source": [
    "torch.manual_seed(0)\n",
    "\n",
    "transf = tr.Compose(\n",
    "    [tr.Resize((32, 32)),\n",
    "     tr.RandomHorizontalFlip(),\n",
    "     tr.RandomRotation(10),\n",
    "     tr.RandomAffine(0, shear=10, scale=(0.8, 1.2)),\n",
    "     tr.ColorJitter(brightness=0.2, contrast=0.2, saturation=0.2),\n",
    "     tr.ToTensor(),\n",
    "     tr.Normalize((0.5, 0.5, 0.5), (0.5, 0.5, 0.5))])\n",
    "\n",
    "trainset = torchvision.datasets.CIFAR10(root='./data', train=True, download=True, transform=transf)\n",
    "trainloader = torch.utils.data.DataLoader(trainset, batch_size=4, shuffle=True, num_workers=2)\n",
    "\n",
    "testset = torchvision.datasets.CIFAR10(root='./data/', train=False, download=True, transform=transf)\n",
    "testloader = torch.utils.data.DataLoader(testset, batch_size=4, shuffle=True, num_workers=2)\n",
    "\n",
    "classes = ('plane', 'car', 'bird', 'cat',\n",
    "           'deer', 'dog', 'frog', 'horse', 'ship', 'truck')"
   ]
  },
  {
   "cell_type": "code",
   "execution_count": 4,
   "metadata": {},
   "outputs": [],
   "source": [
    "import torch.nn as nn\n",
    "import torch.nn.functional as F\n",
    "\n",
    "\n",
    "class Net(nn.Module):\n",
    "    def __init__(self):\n",
    "        super().__init__()\n",
    "        self.conv1 = nn.Conv2d(3, 6, 5)\n",
    "        self.pool = nn.MaxPool2d(2, 2)\n",
    "        self.conv2 = nn.Conv2d(6, 16, 5)\n",
    "        self.fc1 = nn.Linear(16 * 5 * 5, 120)\n",
    "        self.fc2 = nn.Linear(120, 84)\n",
    "        self.fc3 = nn.Linear(84, 10)\n",
    "\n",
    "    def forward(self, x):\n",
    "        x = self.pool(F.relu(self.conv1(x)))\n",
    "        x = self.pool(F.relu(self.conv2(x)))\n",
    "        x = x.view(-1, 16 * 5 *5)\n",
    "        x = F.relu(self.fc1(x))\n",
    "        x = F.relu(self.fc2(x))\n",
    "        x = self.fc3(x)\n",
    "        return x\n",
    "\n",
    "\n",
    "net = Net()"
   ]
  },
  {
   "cell_type": "code",
   "execution_count": 5,
   "metadata": {},
   "outputs": [],
   "source": [
    "import torch.optim as optim\n",
    "\n",
    "criterion = nn.CrossEntropyLoss()\n",
    "optimizer = optim.SGD(net.parameters(), lr=0.001, momentum=0.9)"
   ]
  },
  {
   "cell_type": "code",
   "execution_count": 6,
   "metadata": {},
   "outputs": [
    {
     "name": "stdout",
     "output_type": "stream",
     "text": [
      "[1,  2000] loss: 2.230\n",
      "[1,  4000] loss: 1.929\n",
      "[1,  6000] loss: 1.790\n",
      "[1,  8000] loss: 1.680\n",
      "[1, 10000] loss: 1.632\n",
      "[1, 12000] loss: 1.598\n",
      "[2,  2000] loss: 1.549\n",
      "[2,  4000] loss: 1.539\n",
      "[2,  6000] loss: 1.518\n",
      "[2,  8000] loss: 1.490\n",
      "[2, 10000] loss: 1.475\n",
      "[2, 12000] loss: 1.457\n",
      "[3,  2000] loss: 1.420\n",
      "[3,  4000] loss: 1.405\n",
      "[3,  6000] loss: 1.413\n",
      "[3,  8000] loss: 1.399\n",
      "[3, 10000] loss: 1.376\n",
      "[3, 12000] loss: 1.382\n",
      "[4,  2000] loss: 1.332\n",
      "[4,  4000] loss: 1.352\n",
      "[4,  6000] loss: 1.340\n",
      "[4,  8000] loss: 1.339\n",
      "[4, 10000] loss: 1.327\n",
      "[4, 12000] loss: 1.332\n",
      "[5,  2000] loss: 1.290\n",
      "[5,  4000] loss: 1.302\n",
      "[5,  6000] loss: 1.322\n",
      "[5,  8000] loss: 1.291\n",
      "[5, 10000] loss: 1.278\n",
      "[5, 12000] loss: 1.307\n",
      "[6,  2000] loss: 1.267\n",
      "[6,  4000] loss: 1.265\n",
      "[6,  6000] loss: 1.273\n",
      "[6,  8000] loss: 1.261\n",
      "[6, 10000] loss: 1.258\n",
      "[6, 12000] loss: 1.248\n",
      "[7,  2000] loss: 1.230\n",
      "[7,  4000] loss: 1.229\n",
      "[7,  6000] loss: 1.236\n",
      "[7,  8000] loss: 1.242\n",
      "[7, 10000] loss: 1.237\n",
      "[7, 12000] loss: 1.217\n",
      "[8,  2000] loss: 1.200\n",
      "[8,  4000] loss: 1.197\n",
      "[8,  6000] loss: 1.200\n",
      "[8,  8000] loss: 1.215\n",
      "[8, 10000] loss: 1.227\n",
      "[8, 12000] loss: 1.222\n",
      "[9,  2000] loss: 1.192\n",
      "[9,  4000] loss: 1.202\n",
      "[9,  6000] loss: 1.187\n",
      "[9,  8000] loss: 1.188\n",
      "[9, 10000] loss: 1.192\n",
      "[9, 12000] loss: 1.202\n",
      "[10,  2000] loss: 1.187\n",
      "[10,  4000] loss: 1.155\n",
      "[10,  6000] loss: 1.191\n",
      "[10,  8000] loss: 1.164\n",
      "[10, 10000] loss: 1.184\n",
      "[10, 12000] loss: 1.166\n",
      "[11,  2000] loss: 1.152\n",
      "[11,  4000] loss: 1.154\n",
      "[11,  6000] loss: 1.166\n",
      "[11,  8000] loss: 1.165\n",
      "[11, 10000] loss: 1.157\n",
      "[11, 12000] loss: 1.164\n",
      "[12,  2000] loss: 1.127\n",
      "[12,  4000] loss: 1.156\n",
      "[12,  6000] loss: 1.153\n",
      "[12,  8000] loss: 1.146\n",
      "[12, 10000] loss: 1.158\n",
      "[12, 12000] loss: 1.148\n",
      "[13,  2000] loss: 1.136\n",
      "[13,  4000] loss: 1.127\n",
      "[13,  6000] loss: 1.129\n",
      "[13,  8000] loss: 1.145\n",
      "[13, 10000] loss: 1.140\n",
      "[13, 12000] loss: 1.141\n",
      "[14,  2000] loss: 1.135\n",
      "[14,  4000] loss: 1.123\n",
      "[14,  6000] loss: 1.112\n",
      "[14,  8000] loss: 1.134\n",
      "[14, 10000] loss: 1.131\n",
      "[14, 12000] loss: 1.116\n",
      "[15,  2000] loss: 1.112\n",
      "[15,  4000] loss: 1.109\n",
      "[15,  6000] loss: 1.089\n",
      "[15,  8000] loss: 1.117\n",
      "[15, 10000] loss: 1.127\n",
      "[15, 12000] loss: 1.124\n",
      "[16,  2000] loss: 1.080\n",
      "[16,  4000] loss: 1.115\n",
      "[16,  6000] loss: 1.113\n",
      "[16,  8000] loss: 1.107\n",
      "[16, 10000] loss: 1.134\n",
      "[16, 12000] loss: 1.115\n",
      "[17,  2000] loss: 1.094\n",
      "[17,  4000] loss: 1.085\n",
      "[17,  6000] loss: 1.079\n",
      "[17,  8000] loss: 1.096\n",
      "[17, 10000] loss: 1.132\n",
      "[17, 12000] loss: 1.109\n",
      "[18,  2000] loss: 1.083\n",
      "[18,  4000] loss: 1.102\n",
      "[18,  6000] loss: 1.124\n",
      "[18,  8000] loss: 1.108\n",
      "[18, 10000] loss: 1.096\n",
      "[18, 12000] loss: 1.078\n",
      "[19,  2000] loss: 1.082\n",
      "[19,  4000] loss: 1.083\n",
      "[19,  6000] loss: 1.107\n",
      "[19,  8000] loss: 1.089\n",
      "[19, 10000] loss: 1.102\n",
      "[19, 12000] loss: 1.096\n",
      "[20,  2000] loss: 1.079\n",
      "[20,  4000] loss: 1.084\n",
      "[20,  6000] loss: 1.088\n",
      "[20,  8000] loss: 1.096\n",
      "[20, 10000] loss: 1.074\n",
      "[20, 12000] loss: 1.116\n",
      "[21,  2000] loss: 1.098\n",
      "[21,  4000] loss: 1.087\n",
      "[21,  6000] loss: 1.076\n",
      "[21,  8000] loss: 1.071\n",
      "[21, 10000] loss: 1.085\n",
      "[21, 12000] loss: 1.085\n",
      "[22,  2000] loss: 1.062\n",
      "[22,  4000] loss: 1.101\n",
      "[22,  6000] loss: 1.060\n",
      "[22,  8000] loss: 1.075\n",
      "[22, 10000] loss: 1.087\n",
      "[22, 12000] loss: 1.071\n",
      "[23,  2000] loss: 1.065\n",
      "[23,  4000] loss: 1.083\n",
      "[23,  6000] loss: 1.077\n",
      "[23,  8000] loss: 1.076\n",
      "[23, 10000] loss: 1.089\n",
      "[23, 12000] loss: 1.059\n",
      "[24,  2000] loss: 1.043\n",
      "[24,  4000] loss: 1.059\n",
      "[24,  6000] loss: 1.076\n",
      "[24,  8000] loss: 1.097\n",
      "[24, 10000] loss: 1.071\n",
      "[24, 12000] loss: 1.077\n",
      "[25,  2000] loss: 1.039\n",
      "[25,  4000] loss: 1.051\n",
      "[25,  6000] loss: 1.074\n",
      "[25,  8000] loss: 1.059\n",
      "[25, 10000] loss: 1.066\n",
      "[25, 12000] loss: 1.081\n",
      "[26,  2000] loss: 1.060\n",
      "[26,  4000] loss: 1.048\n",
      "[26,  6000] loss: 1.069\n",
      "[26,  8000] loss: 1.063\n",
      "[26, 10000] loss: 1.070\n",
      "[26, 12000] loss: 1.077\n",
      "[27,  2000] loss: 1.050\n",
      "[27,  4000] loss: 1.051\n",
      "[27,  6000] loss: 1.073\n",
      "[27,  8000] loss: 1.039\n",
      "[27, 10000] loss: 1.060\n",
      "[27, 12000] loss: 1.057\n",
      "[28,  2000] loss: 1.040\n",
      "[28,  4000] loss: 1.044\n",
      "[28,  6000] loss: 1.041\n",
      "[28,  8000] loss: 1.061\n",
      "[28, 10000] loss: 1.055\n",
      "[28, 12000] loss: 1.054\n",
      "[29,  2000] loss: 1.042\n",
      "[29,  4000] loss: 1.045\n",
      "[29,  6000] loss: 1.059\n",
      "[29,  8000] loss: 1.045\n",
      "[29, 10000] loss: 1.041\n",
      "[29, 12000] loss: 1.068\n",
      "[30,  2000] loss: 1.025\n",
      "[30,  4000] loss: 1.036\n",
      "[30,  6000] loss: 1.049\n",
      "[30,  8000] loss: 1.058\n",
      "[30, 10000] loss: 1.039\n",
      "[30, 12000] loss: 1.060\n",
      "Finished Training\n"
     ]
    }
   ],
   "source": [
    "for epoch in range(30):   # 데이터셋을 수차례 반복합니다.\n",
    "\n",
    "    running_loss = 0.0\n",
    "    for i, data in enumerate(trainloader, 0):\n",
    "        # [inputs, labels]의 목록인 data로부터 입력을 받은 후;\n",
    "        inputs, labels = data\n",
    "\n",
    "        # 변화도(Gradient) 매개변수를 0으로 만들고\n",
    "        # 옵티마이저 초기화\n",
    "        optimizer.zero_grad()\n",
    "\n",
    "        # 순전파 + 역전파 + 최적화를 한 후\n",
    "        outputs = net(inputs)\n",
    "        loss = criterion(outputs, labels)\n",
    "        loss.backward()\n",
    "        optimizer.step()\n",
    "\n",
    "        # 통계를 출력합니다.\n",
    "        running_loss += loss.item()\n",
    "        if i % 2000 == 1999:    # print every 2000 mini-batches\n",
    "            print(f'[{epoch + 1}, {i + 1:5d}] loss: {running_loss / 2000:.3f}')\n",
    "            running_loss = 0.0\n",
    "\n",
    "print('Finished Training')"
   ]
  },
  {
   "cell_type": "code",
   "execution_count": 7,
   "metadata": {},
   "outputs": [],
   "source": [
    "PATH = './cifar_net.pth'\n",
    "torch.save(net.state_dict(), PATH)"
   ]
  },
  {
   "cell_type": "code",
   "execution_count": 8,
   "metadata": {},
   "outputs": [
    {
     "data": {
      "text/plain": [
       "<All keys matched successfully>"
      ]
     },
     "execution_count": 8,
     "metadata": {},
     "output_type": "execute_result"
    }
   ],
   "source": [
    "net = Net()\n",
    "net.load_state_dict(torch.load(PATH))"
   ]
  },
  {
   "cell_type": "code",
   "execution_count": 9,
   "metadata": {},
   "outputs": [
    {
     "name": "stdout",
     "output_type": "stream",
     "text": [
      "Predicted:  plane truck deer  deer \n"
     ]
    }
   ],
   "source": [
    "_, predicted = torch.max(outputs, 1)\n",
    "\n",
    "print('Predicted: ', ' '.join(f'{classes[predicted[j]]:5s}'\n",
    "                              for j in range(4)))"
   ]
  },
  {
   "cell_type": "code",
   "execution_count": 10,
   "metadata": {},
   "outputs": [
    {
     "name": "stdout",
     "output_type": "stream",
     "text": [
      "Accuracy of the network on the 10000 test images: 61 %\n"
     ]
    }
   ],
   "source": [
    "correct = 0\n",
    "total = 0\n",
    "# 학습 중이 아니므로, 출력에 대한 변화도를 계산할 필요가 없습니다\n",
    "with torch.no_grad():\n",
    "    for data in testloader:\n",
    "        images, labels = data\n",
    "        # 신경망에 이미지를 통과시켜 출력을 계산합니다\n",
    "        outputs = net(images)\n",
    "        # 가장 높은 값(energy)를 갖는 분류(class)를 정답으로 선택하겠습니다\n",
    "        _, predicted = torch.max(outputs.data, 1)\n",
    "        total += labels.size(0)\n",
    "        correct += (predicted == labels).sum().item()\n",
    "\n",
    "print(f'Accuracy of the network on the 10000 test images: {100 * correct // total} %')"
   ]
  },
  {
   "cell_type": "code",
   "execution_count": 11,
   "metadata": {},
   "outputs": [
    {
     "name": "stdout",
     "output_type": "stream",
     "text": [
      "Accuracy for class: plane is 68.0 %\n",
      "Accuracy for class: car   is 80.2 %\n",
      "Accuracy for class: bird  is 46.5 %\n",
      "Accuracy for class: cat   is 45.3 %\n",
      "Accuracy for class: deer  is 49.4 %\n",
      "Accuracy for class: dog   is 53.2 %\n",
      "Accuracy for class: frog  is 69.1 %\n",
      "Accuracy for class: horse is 66.4 %\n",
      "Accuracy for class: ship  is 69.6 %\n",
      "Accuracy for class: truck is 64.5 %\n"
     ]
    }
   ],
   "source": [
    "# 각 분류(class)에 대한 예측값 계산을 위해 준비\n",
    "correct_pred = {classname: 0 for classname in classes}\n",
    "total_pred = {classname: 0 for classname in classes}\n",
    "\n",
    "# 변화도는 여전히 필요하지 않습니다\n",
    "with torch.no_grad():\n",
    "    for data in testloader:\n",
    "        images, labels = data\n",
    "        outputs = net(images)\n",
    "        _, predictions = torch.max(outputs, 1)\n",
    "        # 각 분류별로 올바른 예측 수를 모읍니다\n",
    "        for label, prediction in zip(labels, predictions):\n",
    "            if label == prediction:\n",
    "                correct_pred[classes[label]] += 1\n",
    "            total_pred[classes[label]] += 1\n",
    "\n",
    "\n",
    "# 각 분류별 정확도(accuracy)를 출력합니다\n",
    "for classname, correct_count in correct_pred.items():\n",
    "    accuracy = 100 * float(correct_count) / total_pred[classname]\n",
    "    print(f'Accuracy for class: {classname:5s} is {accuracy:.1f} %')"
   ]
  },
  {
   "cell_type": "code",
   "execution_count": null,
   "metadata": {},
   "outputs": [],
   "source": []
  },
  {
   "cell_type": "code",
   "execution_count": null,
   "metadata": {},
   "outputs": [],
   "source": []
  },
  {
   "cell_type": "code",
   "execution_count": null,
   "metadata": {},
   "outputs": [],
   "source": []
  },
  {
   "cell_type": "code",
   "execution_count": null,
   "metadata": {},
   "outputs": [],
   "source": []
  },
  {
   "cell_type": "code",
   "execution_count": null,
   "metadata": {},
   "outputs": [],
   "source": []
  },
  {
   "cell_type": "code",
   "execution_count": null,
   "metadata": {},
   "outputs": [],
   "source": []
  },
  {
   "cell_type": "code",
   "execution_count": null,
   "metadata": {},
   "outputs": [],
   "source": []
  },
  {
   "cell_type": "code",
   "execution_count": null,
   "metadata": {},
   "outputs": [],
   "source": []
  },
  {
   "cell_type": "code",
   "execution_count": null,
   "metadata": {},
   "outputs": [],
   "source": []
  }
 ],
 "metadata": {
  "kernelspec": {
   "display_name": "Python 3",
   "language": "python",
   "name": "python3"
  },
  "language_info": {
   "codemirror_mode": {
    "name": "ipython",
    "version": 3
   },
   "file_extension": ".py",
   "mimetype": "text/x-python",
   "name": "python",
   "nbconvert_exporter": "python",
   "pygments_lexer": "ipython3",
   "version": "3.6.9"
  }
 },
 "nbformat": 4,
 "nbformat_minor": 2
}
